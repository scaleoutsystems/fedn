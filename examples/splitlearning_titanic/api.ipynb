{
 "cells": [
  {
   "cell_type": "code",
   "execution_count": 133,
   "metadata": {},
   "outputs": [],
   "source": [
    "from fedn import APIClient"
   ]
  },
  {
   "cell_type": "code",
   "execution_count": 134,
   "metadata": {},
   "outputs": [],
   "source": [
    "DISCOVER_HOST = '127.0.0.1'\n",
    "DISCOVER_PORT = 8092\n",
    "client = APIClient(DISCOVER_HOST, DISCOVER_PORT)"
   ]
  },
  {
   "cell_type": "code",
   "execution_count": 135,
   "metadata": {},
   "outputs": [
    {
     "data": {
      "text/plain": [
       "<fedn.network.api.client.APIClient at 0x107cd93d0>"
      ]
     },
     "execution_count": 135,
     "metadata": {},
     "output_type": "execute_result"
    }
   ],
   "source": [
    "client"
   ]
  },
  {
   "cell_type": "code",
   "execution_count": 136,
   "metadata": {},
   "outputs": [
    {
     "data": {
      "text/plain": [
       "{'count': 2,\n",
       " 'result': [{'client_id': 'eb2bcf55-17c5-4e34-9b6f-d53b41e38cd4',\n",
       "   'combiner': 'combinerd3486ca7',\n",
       "   'id': '6763339936d0caaa05834846',\n",
       "   'ip': '127.0.0.1',\n",
       "   'last_seen': 'Wed, 18 Dec 2024 21:42:03 GMT',\n",
       "   'name': 'clientb0abc7ea',\n",
       "   'package': 'local',\n",
       "   'status': 'online',\n",
       "   'updated_at': '2024-12-18 21:42:01.464088'},\n",
       "  {'client_id': '8b4a21f9-c1e6-4632-a196-6aa29b268f61',\n",
       "   'combiner': 'combinerd3486ca7',\n",
       "   'id': '676332f636d0caaa058346f8',\n",
       "   'ip': '127.0.0.1',\n",
       "   'last_seen': 'Wed, 18 Dec 2024 21:41:07 GMT',\n",
       "   'name': 'client1aafa234',\n",
       "   'package': 'local',\n",
       "   'status': 'online',\n",
       "   'updated_at': '2024-12-18 21:39:18.504766'}]}"
      ]
     },
     "execution_count": 136,
     "metadata": {},
     "output_type": "execute_result"
    }
   ],
   "source": [
    "client.get_active_clients()"
   ]
  },
  {
   "cell_type": "code",
   "execution_count": 137,
   "metadata": {},
   "outputs": [
    {
     "data": {
      "text/plain": [
       "{'message': 'Compute package set.', 'success': True}"
      ]
     },
     "execution_count": 137,
     "metadata": {},
     "output_type": "execute_result"
    }
   ],
   "source": [
    "client.set_active_package('package.tgz', 'splitlearninghelper')"
   ]
  },
  {
   "cell_type": "code",
   "execution_count": 138,
   "metadata": {},
   "outputs": [
    {
     "data": {
      "text/plain": [
       "{'config': {'aggregator': 'splitlearningagg',\n",
       "  'buffer_size': -1,\n",
       "  'clients_requested': 8,\n",
       "  'clients_required': 1,\n",
       "  'delete_models_storage': True,\n",
       "  'helper_type': 'splitlearninghelper',\n",
       "  'round_timeout': 60,\n",
       "  'rounds': 200,\n",
       "  'server_functions': None,\n",
       "  'session_id': '1',\n",
       "  'task': '',\n",
       "  'validate': True},\n",
       " 'message': 'Split Learning Session started successfully.',\n",
       " 'success': True}"
      ]
     },
     "execution_count": 138,
     "metadata": {},
     "output_type": "execute_result"
    }
   ],
   "source": [
    "session_id = \"1\"\n",
    "\n",
    "session_config = {\n",
    "                    \"helper\": \"splitlearninghelper\",\n",
    "                    \"id\": session_id,\n",
    "                    \"aggregator\": \"splitlearningagg\",\n",
    "                    \"rounds\": 200,\n",
    "                    \"round_timeout\": 60\n",
    "                 }\n",
    "\n",
    "\n",
    "client.start_splitlearning_session(**session_config)"
   ]
  }
 ],
 "metadata": {
  "kernelspec": {
   "display_name": ".venv",
   "language": "python",
   "name": "python3"
  },
  "language_info": {
   "codemirror_mode": {
    "name": "ipython",
    "version": 3
   },
   "file_extension": ".py",
   "mimetype": "text/x-python",
   "name": "python",
   "nbconvert_exporter": "python",
   "pygments_lexer": "ipython3",
   "version": "3.9.6"
  }
 },
 "nbformat": 4,
 "nbformat_minor": 2
}
