{
 "cells": [
  {
   "cell_type": "code",
   "execution_count": 168,
   "metadata": {},
   "outputs": [],
   "source": [
    "from fedn import APIClient"
   ]
  },
  {
   "cell_type": "code",
   "execution_count": 169,
   "metadata": {},
   "outputs": [],
   "source": [
    "DISCOVER_HOST = '127.0.0.1'\n",
    "DISCOVER_PORT = 8092\n",
    "client = APIClient(DISCOVER_HOST, DISCOVER_PORT)"
   ]
  },
  {
   "cell_type": "code",
   "execution_count": 170,
   "metadata": {},
   "outputs": [
    {
     "data": {
      "text/plain": [
       "<fedn.network.api.client.APIClient at 0x1162a05e0>"
      ]
     },
     "execution_count": 170,
     "metadata": {},
     "output_type": "execute_result"
    }
   ],
   "source": [
    "client"
   ]
  },
  {
   "cell_type": "code",
   "execution_count": 171,
   "metadata": {},
   "outputs": [
    {
     "data": {
      "text/plain": [
       "{'count': 2,\n",
       " 'result': [{'client_id': 'ef5dd2e4-0660-400e-b883-2301366f3bd5',\n",
       "   'combiner': 'combiner93d66f64',\n",
       "   'id': '67641f327c2d2ddecce002c8',\n",
       "   'ip': '127.0.0.1',\n",
       "   'last_seen': 'Thu, 19 Dec 2024 14:27:16 GMT',\n",
       "   'name': 'client4e582282',\n",
       "   'package': 'local',\n",
       "   'status': 'online',\n",
       "   'updated_at': '2024-12-19 14:27:14.648611'},\n",
       "  {'client_id': '7d50d8eb-24df-4a91-aa98-737c06a9d455',\n",
       "   'combiner': 'combiner93d66f64',\n",
       "   'id': '67641f267c2d2ddecce002ab',\n",
       "   'ip': '127.0.0.1',\n",
       "   'last_seen': 'Thu, 19 Dec 2024 14:27:04 GMT',\n",
       "   'name': 'client5c2c168f',\n",
       "   'package': 'local',\n",
       "   'status': 'online',\n",
       "   'updated_at': '2024-12-19 14:27:02.270562'}]}"
      ]
     },
     "execution_count": 171,
     "metadata": {},
     "output_type": "execute_result"
    }
   ],
   "source": [
    "client.get_active_clients()"
   ]
  },
  {
   "cell_type": "code",
   "execution_count": 172,
   "metadata": {},
   "outputs": [
    {
     "data": {
      "text/plain": [
       "{'message': 'Compute package set.', 'success': True}"
      ]
     },
     "execution_count": 172,
     "metadata": {},
     "output_type": "execute_result"
    }
   ],
   "source": [
    "client.set_active_package('package.tgz', 'splitlearninghelper')"
   ]
  },
  {
   "cell_type": "code",
   "execution_count": 173,
   "metadata": {},
   "outputs": [
    {
     "data": {
      "text/plain": [
       "{'config': {'aggregator': 'splitlearningagg',\n",
       "  'buffer_size': -1,\n",
       "  'clients_requested': 8,\n",
       "  'clients_required': 1,\n",
       "  'committed_at': 'Thu, 19 Dec 2024 14:29:30 GMT',\n",
       "  'delete_models_storage': True,\n",
       "  'helper_type': 'splitlearninghelper',\n",
       "  'round_timeout': 60,\n",
       "  'rounds': 200,\n",
       "  'server_functions': None,\n",
       "  'session_id': '1',\n",
       "  'task': '',\n",
       "  'validate': True},\n",
       " 'message': 'Split Learning Session started successfully.',\n",
       " 'success': True}"
      ]
     },
     "execution_count": 173,
     "metadata": {},
     "output_type": "execute_result"
    }
   ],
   "source": [
    "session_id = \"1\"\n",
    "\n",
    "session_config = {\n",
    "                    \"helper\": \"splitlearninghelper\",\n",
    "                    \"id\": session_id,\n",
    "                    \"aggregator\": \"splitlearningagg\",\n",
    "                    \"rounds\": 200,\n",
    "                    \"round_timeout\": 60\n",
    "                 }\n",
    "\n",
    "\n",
    "client.start_splitlearning_session(**session_config)"
   ]
  },
  {
   "cell_type": "code",
   "execution_count": null,
   "metadata": {},
   "outputs": [],
   "source": []
  }
 ],
 "metadata": {
  "kernelspec": {
   "display_name": ".venv",
   "language": "python",
   "name": "python3"
  },
  "language_info": {
   "codemirror_mode": {
    "name": "ipython",
    "version": 3
   },
   "file_extension": ".py",
   "mimetype": "text/x-python",
   "name": "python",
   "nbconvert_exporter": "python",
   "pygments_lexer": "ipython3",
   "version": "3.9.6"
  }
 },
 "nbformat": 4,
 "nbformat_minor": 2
}
