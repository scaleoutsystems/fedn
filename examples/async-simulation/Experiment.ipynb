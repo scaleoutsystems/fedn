{
 "cells": [
  {
   "cell_type": "markdown",
   "id": "622f7047",
   "metadata": {},
   "source": [
    "## Asycronous clients\n",
    "\n",
    "This example illustrates how one can work with asyncronous clients using FEDn."
   ]
  },
  {
   "cell_type": "code",
   "execution_count": 19,
   "id": "1a2686dd",
   "metadata": {},
   "outputs": [],
   "source": [
    "import numpy as np\n",
    "from sklearn.datasets import make_classification\n",
    "from sklearn.neural_network import MLPClassifier\n",
    "from sklearn.metrics import accuracy_score\n",
    "from sklearn.model_selection import train_test_split\n",
    "from client.entrypoint import compile_model, load_parameters, make_data \n",
    "\n",
    "\n",
    "from fedn import APIClient\n",
    "import uuid\n",
    "import json\n",
    "import matplotlib.pyplot as plt\n",
    "import numpy as np\n",
    "import copy\n",
    "\n",
    "import warnings\n",
    "warnings.filterwarnings(\"ignore\")"
   ]
  },
  {
   "cell_type": "markdown",
   "id": "e4ab4a64",
   "metadata": {},
   "source": [
    "### ML model\n",
    "\n",
    "As a centralized model baseline we generate synthetic data for a classification problem based on 4 features. We train a MLPClassifier on 80k training points, and test on 20k using ReLU activation, and Adam as optimizer, using a maximum of 1000 epochs.   "
   ]
  },
  {
   "cell_type": "code",
   "execution_count": 11,
   "id": "70c5f5c9",
   "metadata": {},
   "outputs": [],
   "source": [
    "X, y = make_classification(n_samples=100000, n_features=4, n_informative=4, n_redundant=0, random_state=42)\n",
    "X_train, X_test, y_train, y_test = train_test_split(X, y, test_size=0.2, random_state=42)"
   ]
  },
  {
   "cell_type": "markdown",
   "id": "1a121b39",
   "metadata": {},
   "source": [
    "We train a centralized baseline model for a maximum of 1000 epochs.  "
   ]
  },
  {
   "cell_type": "code",
   "execution_count": 16,
   "id": "a985c6b3",
   "metadata": {},
   "outputs": [
    {
     "name": "stdout",
     "output_type": "stream",
     "text": [
      "Training accuracy:  0.920925\n",
      "Test accuracy:  0.92015\n"
     ]
    }
   ],
   "source": [
    "clf = MLPClassifier(max_iter=1000)\n",
    "clf.fit(X_train, y_train)\n",
    "central_test_acc = accuracy_score(y_test, clf.predict(X_test))\n",
    "\n",
    "print(\"Training accuracy: \", accuracy_score(y_train, clf.predict(X_train)))\n",
    "print(\"Test accuracy: \", accuracy_score(y_test, clf.predict(X_test)))"
   ]
  },
  {
   "cell_type": "markdown",
   "id": "b4976986",
   "metadata": {},
   "source": [
    "Next we simulate the training procedure of a single FL client. The client will in each interation draw a random number of training data points in the interval (50,100) from (X_train, y_train) and perform 'n_epochs' partial fits on that small sampled dataset. Then for each global round we test on the centralized test set (X_test, y_test). In this exepriment we simulate 1000 global rounds and the client performs 10 local epochs. "
   ]
  },
  {
   "cell_type": "code",
   "execution_count": 36,
   "id": "34ce6b7d",
   "metadata": {},
   "outputs": [
    {
     "data": {
      "text/plain": [
       "[<matplotlib.lines.Line2D at 0x147d4f190>]"
      ]
     },
     "execution_count": 36,
     "metadata": {},
     "output_type": "execute_result"
    },
    {
     "data": {
      "image/png": "[encoded data removed]",
      "text/plain": [
       "<Figure size 640x480 with 1 Axes>"
      ]
     },
     "metadata": {},
     "output_type": "display_data"
    }
   ],
   "source": [
    "clf = compile_model()\n",
    "\n",
    "n_global_rounds=100\n",
    "n_epochs = 10\n",
    "central_acc = []\n",
    "for i in range(n_global_rounds):\n",
    "    x,y,_,_ = make_data()\n",
    "    for j in range(n_epochs):\n",
    "        clf.partial_fit(x, y)\n",
    "    central_acc.append(accuracy_score(y_test, clf.predict(X_test)))\n",
    "\n",
    "plt.plot(range(n_global_rounds),[central_test_acc]*n_global_rounds)\n",
    "plt.plot(range(n_global_rounds), central_acc)"
   ]
  },
  {
   "cell_type": "markdown",
   "id": "06c05caf",
   "metadata": {},
   "source": [
    "### Federated learning with 10 clients that stay online continously\n",
    "\n",
    "Now we run federated learning with FEDn using 10 clients that stay online continously for the duration of the experiment. For this we will use the scripts 'run_clients.py' and 'run_experiment.py'.  "
   ]
  },
  {
   "cell_type": "code",
   "execution_count": null,
   "id": "0325189a",
   "metadata": {},
   "outputs": [],
   "source": []
  },
  {
   "cell_type": "markdown",
   "id": "1046a4e5",
   "metadata": {},
   "source": [
    "We make a client connection to the FEDn API service. Here we assume that FEDn is deployed locally in pseudo-distributed mode with default ports."
   ]
  },
  {
   "cell_type": "code",
   "execution_count": 26,
   "id": "1061722d",
   "metadata": {},
   "outputs": [],
   "source": [
    "DISCOVER_HOST = '127.0.0.1'\n",
    "DISCOVER_PORT = 8092\n",
    "client = APIClient(DISCOVER_HOST, DISCOVER_PORT)"
   ]
  },
  {
   "cell_type": "markdown",
   "id": "29552af9",
   "metadata": {},
   "source": [
    "Next, we retrive all model validations from all clients, extract the training accuracy metric, and compute its mean value accross all clients"
   ]
  },
  {
   "cell_type": "code",
   "execution_count": 27,
   "id": "5fdabea3",
   "metadata": {},
   "outputs": [],
   "source": [
    "def load_fedn_model(model_id):\n",
    "\n",
    "    data = client.download_model(model_id, 'temp.npz')\n",
    "    parameters = load_parameters('temp.npz')\n",
    "    model = compile_model()\n",
    "    n = len(parameters)//2\n",
    "    model.coefs_ = parameters[:n]\n",
    "    model.intercepts_ = parameters[n:]\n",
    "    return model\n",
    "    "
   ]
  },
  {
   "cell_type": "markdown",
   "id": "296e04ee",
   "metadata": {},
   "source": [
    "Traverse the model trail and plot test accuracy on the central test set"
   ]
  },
  {
   "cell_type": "code",
   "execution_count": 39,
   "id": "11fd17ef",
   "metadata": {
    "scrolled": true
   },
   "outputs": [],
   "source": [
    "model_trail = client.get_model_trail()\n",
    "\n",
    "acc = []\n",
    "for model in model_trail: \n",
    "    model = load_fedn_model(model['id'])\n",
    "    acc.append(accuracy_score(y_test, model.predict(X_test)))"
   ]
  },
  {
   "cell_type": "markdown",
   "id": "40db4542",
   "metadata": {},
   "source": [
    "Plot the result."
   ]
  },
  {
   "cell_type": "code",
   "execution_count": 41,
   "id": "f0c3c51c",
   "metadata": {
    "scrolled": true
   },
   "outputs": [
    {
     "data": {
      "text/plain": [
       "<matplotlib.legend.Legend at 0x142ce6680>"
      ]
     },
     "execution_count": 41,
     "metadata": {},
     "output_type": "execute_result"
    },
    {
     "data": {
      "image/png": "[encoded data removed]",
      "text/plain": [
       "<Figure size 640x480 with 1 Axes>"
      ]
     },
     "metadata": {},
     "output_type": "display_data"
    }
   ],
   "source": [
    "x = range(1,len(acc)+1)\n",
    "plt.plot(x, acc)\n",
    "plt.plot(x,[central_test_acc]*len(x))\n",
    "plt.plot(range(n_global_rounds), central_acc)\n",
    "plt.legend(['FL','Centralized baseline'])"
   ]
  },
  {
   "cell_type": "code",
   "execution_count": null,
   "id": "47dc862f",
   "metadata": {},
   "outputs": [],
   "source": []
  }
 ],
 "metadata": {
  "kernelspec": {
   "display_name": "Python 3 (ipykernel)",
   "language": "python",
   "name": "python3"
  },
  "language_info": {
   "codemirror_mode": {
    "name": "ipython",
    "version": 3
   },
   "file_extension": ".py",
   "mimetype": "text/x-python",
   "name": "python",
   "nbconvert_exporter": "python",
   "pygments_lexer": "ipython3",
   "version": "3.10.6"
  },
  "vscode": {
   "interpreter": {
    "hash": "21345b455230dd04cf84c108e7c182ecfe8d1aa1242b8b64881a6d2c0a5951ac"
   }
  }
 },
 "nbformat": 4,
 "nbformat_minor": 5
}
