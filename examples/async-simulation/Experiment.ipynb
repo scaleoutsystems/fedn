{
 "cells": [
  {
   "cell_type": "markdown",
   "id": "622f7047",
   "metadata": {},
   "source": [
    "## Asycronous clients\n",
    "\n",
    "This example illustrates how one can work with asyncronous clients using FEDn."
   ]
  },
  {
   "cell_type": "markdown",
   "id": "182f7b95",
   "metadata": {},
   "source": [
    "### ML model\n",
    "\n",
    "We will train a Multilayer Perceptron (MLPClassifier) from sklearn with default parameters. "
   ]
  },
  {
   "cell_type": "code",
   "execution_count": 5,
   "id": "1a2686dd",
   "metadata": {},
   "outputs": [],
   "source": [
    "import numpy as np\n",
    "from sklearn.datasets import make_classification\n",
    "from sklearn.neural_network import MLPClassifier\n",
    "from sklearn.metrics import accuracy_score"
   ]
  },
  {
   "cell_type": "markdown",
   "id": "9ae2cbf5",
   "metadata": {},
   "source": [
    "For the centralized model we generate synthetic data for a classification problem based on 4 features. "
   ]
  },
  {
   "cell_type": "code",
   "execution_count": null,
   "id": "6c8bde1d",
   "metadata": {},
   "outputs": [],
   "source": [
    "# We generate a simulated dataset for classification\n",
    "X, y = make_classification(n_samples=10000, n_features=4, random_state=42)\n",
    "from sklearn.model_selection import train_test_split\n",
    "X_train, X_test, y_train, y_test = train_test_split(X, y, test_size=0.33, random_state=42)"
   ]
  },
  {
   "cell_type": "markdown",
   "id": "d2a8698a",
   "metadata": {},
   "source": [
    "The model is defined in the FEDn entrypoint file, we import it here and fit it to the dataset."
   ]
  },
  {
   "cell_type": "code",
   "execution_count": 4,
   "id": "a985c6b3",
   "metadata": {},
   "outputs": [
    {
     "name": "stdout",
     "output_type": "stream",
     "text": [
      "Training accuracy:  0.94\n",
      "Test accuracy:  0.9366666666666666\n"
     ]
    }
   ],
   "source": [
    "from client.entrypoint import compile_model\n",
    "\n",
    "clf = compile_model(max_iter=300)\n",
    "clf.fit(X_train, y_train)\n",
    "\n",
    "print(\"Training accuracy: \", accuracy_score(y_train, clf.predict(X_train)))\n",
    "print(\"Test accuracy: \", accuracy_score(y_test, clf.predict(X_test)))"
   ]
  },
  {
   "cell_type": "code",
   "execution_count": 7,
   "id": "743dfe47",
   "metadata": {},
   "outputs": [],
   "source": [
    "from fedn import APIClient\n",
    "from fedn.network.clients.client import Client\n",
    "import uuid\n",
    "import json\n",
    "import matplotlib.pyplot as plt\n",
    "import numpy as np\n",
    "import collections\n",
    "import copy"
   ]
  },
  {
   "cell_type": "markdown",
   "id": "1046a4e5",
   "metadata": {},
   "source": [
    "We make a client connection to the FEDn API service. Here we assume that FEDn is deployed locally in pseudo-distributed mode with default ports."
   ]
  },
  {
   "cell_type": "code",
   "execution_count": 9,
   "id": "1061722d",
   "metadata": {},
   "outputs": [],
   "source": [
    "DISCOVER_HOST = '127.0.0.1'\n",
    "DISCOVER_PORT = 8092\n",
    "client = APIClient(DISCOVER_HOST, DISCOVER_PORT)"
   ]
  },
  {
   "cell_type": "markdown",
   "id": "29552af9",
   "metadata": {},
   "source": [
    "Next, we retrive all model validations from all clients, extract the training accuracy metric, and compute its mean value accross all clients"
   ]
  },
  {
   "cell_type": "code",
   "execution_count": 28,
   "id": "11fd17ef",
   "metadata": {
    "scrolled": true
   },
   "outputs": [],
   "source": [
    "models = client.list_models(session_id = \"7aa63e7c-d659-4ac2-8d21-ce90fcb3a488\")\n",
    "\n",
    "validations = []\n",
    "acc = collections.OrderedDict()\n",
    "for model in models[\"result\"]:\n",
    "    model_id = model[\"model\"]\n",
    "    validations = client.list_validations(modelId=model_id)\n",
    "\n",
    "    for _ , validation in validations.items(): \n",
    "        metrics = json.loads(validation['data'])\n",
    "        try:\n",
    "            acc[model_id].append(metrics['accuracy_score'])\n",
    "        except KeyError: \n",
    "            acc[model_id] = [metrics['accuracy_score']]\n",
    "            \n",
    "mean_acc_fedavg = []\n",
    "for model, data in acc.items():\n",
    "    mean_acc_fedavg.append(np.mean(data))\n",
    "mean_acc_fedavg.reverse()"
   ]
  },
  {
   "cell_type": "markdown",
   "id": "40db4542",
   "metadata": {},
   "source": [
    "Plot the result."
   ]
  },
  {
   "cell_type": "code",
   "execution_count": 29,
   "id": "d064aaf9",
   "metadata": {},
   "outputs": [
    {
     "data": {
      "text/plain": [
       "[<matplotlib.lines.Line2D at 0x12ed4bdf0>]"
      ]
     },
     "execution_count": 29,
     "metadata": {},
     "output_type": "execute_result"
    },
    {
     "data": {
      "image/png": "[encoded data removed]",
      "text/plain": [
       "<Figure size 640x480 with 1 Axes>"
      ]
     },
     "metadata": {},
     "output_type": "display_data"
    }
   ],
   "source": [
    "x = range(1,len(mean_acc_fedavg)+1)\n",
    "plt.plot(x, mean_acc_fedavg)"
   ]
  },
  {
   "cell_type": "code",
   "execution_count": null,
   "id": "47dc862f",
   "metadata": {},
   "outputs": [],
   "source": []
  }
 ],
 "metadata": {
  "kernelspec": {
   "display_name": "Python 3 (ipykernel)",
   "language": "python",
   "name": "python3"
  },
  "language_info": {
   "codemirror_mode": {
    "name": "ipython",
    "version": 3
   },
   "file_extension": ".py",
   "mimetype": "text/x-python",
   "name": "python",
   "nbconvert_exporter": "python",
   "pygments_lexer": "ipython3",
   "version": "3.10.6"
  },
  "vscode": {
   "interpreter": {
    "hash": "21345b455230dd04cf84c108e7c182ecfe8d1aa1242b8b64881a6d2c0a5951ac"
   }
  }
 },
 "nbformat": 4,
 "nbformat_minor": 5
}
