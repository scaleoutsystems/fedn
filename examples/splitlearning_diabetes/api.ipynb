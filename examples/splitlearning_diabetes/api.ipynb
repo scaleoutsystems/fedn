{
 "cells": [
  {
   "cell_type": "code",
   "execution_count": 25,
   "metadata": {},
   "outputs": [],
   "source": [
    "from fedn import APIClient"
   ]
  },
  {
   "cell_type": "code",
   "execution_count": 26,
   "metadata": {},
   "outputs": [],
   "source": [
    "DISCOVER_HOST = '127.0.0.1'\n",
    "DISCOVER_PORT = 8092\n",
    "client = APIClient(DISCOVER_HOST, DISCOVER_PORT)"
   ]
  },
  {
   "cell_type": "code",
   "execution_count": 27,
   "metadata": {},
   "outputs": [
    {
     "data": {
      "text/plain": [
       "<fedn.network.api.client.APIClient at 0x105fbce50>"
      ]
     },
     "execution_count": 27,
     "metadata": {},
     "output_type": "execute_result"
    }
   ],
   "source": [
    "client"
   ]
  },
  {
   "cell_type": "code",
   "execution_count": 28,
   "metadata": {},
   "outputs": [
    {
     "data": {
      "text/plain": [
       "{'count': 2,\n",
       " 'result': [{'client_id': '46bf1587-fdcd-4a88-becf-5cdcccaa1fe2',\n",
       "   'combiner': 'combiner61cab3e1',\n",
       "   'id': '67b7414e88c31078990c9012',\n",
       "   'ip': '127.0.0.1',\n",
       "   'last_seen': 'Thu, 20 Feb 2025 15:50:55 GMT',\n",
       "   'name': 'client3beaea9b',\n",
       "   'package': 'local',\n",
       "   'status': 'online',\n",
       "   'updated_at': '2025-02-20 15:50:54.033271'},\n",
       "  {'client_id': '04cf0bf7-1884-4683-bbe7-5e9b39756c76',\n",
       "   'combiner': 'combiner61cab3e1',\n",
       "   'id': '67b7414b88c31078990c9009',\n",
       "   'ip': '127.0.0.1',\n",
       "   'last_seen': 'Thu, 20 Feb 2025 15:50:53 GMT',\n",
       "   'name': 'clientbb5e0e2c',\n",
       "   'package': 'local',\n",
       "   'status': 'online',\n",
       "   'updated_at': '2025-02-20 15:50:51.987979'}]}"
      ]
     },
     "execution_count": 28,
     "metadata": {},
     "output_type": "execute_result"
    }
   ],
   "source": [
    "client.get_active_clients()"
   ]
  },
  {
   "cell_type": "code",
   "execution_count": 29,
   "metadata": {},
   "outputs": [
    {
     "data": {
      "text/plain": [
       "{'message': 'Compute package set.', 'success': True}"
      ]
     },
     "execution_count": 29,
     "metadata": {},
     "output_type": "execute_result"
    }
   ],
   "source": [
    "client.set_active_package('package.tgz', 'splitlearninghelper')"
   ]
  },
  {
   "cell_type": "code",
   "execution_count": 30,
   "metadata": {},
   "outputs": [
    {
     "data": {
      "text/plain": [
       "{'config': {'aggregator': 'splitlearningagg',\n",
       "  'buffer_size': -1,\n",
       "  'clients_requested': 8,\n",
       "  'clients_required': 1,\n",
       "  'committed_at': 'Thu, 20 Feb 2025 15:51:02 GMT',\n",
       "  'delete_models_storage': True,\n",
       "  'helper_type': 'splitlearninghelper',\n",
       "  'round_timeout': 60,\n",
       "  'rounds': 200,\n",
       "  'server_functions': None,\n",
       "  'session_id': '1',\n",
       "  'task': '',\n",
       "  'validate': True},\n",
       " 'message': 'Split Learning Session started successfully.',\n",
       " 'success': True}"
      ]
     },
     "execution_count": 30,
     "metadata": {},
     "output_type": "execute_result"
    }
   ],
   "source": [
    "session_id = \"1\"\n",
    "\n",
    "session_config = {\n",
    "                    \"helper\": \"splitlearninghelper\",\n",
    "                    \"id\": session_id,\n",
    "                    \"aggregator\": \"splitlearningagg\",\n",
    "                    \"rounds\": 200,\n",
    "                    \"round_timeout\": 60\n",
    "                 }\n",
    "\n",
    "\n",
    "client.start_splitlearning_session(**session_config)"
   ]
  },
  {
   "cell_type": "markdown",
   "metadata": {},
   "source": []
  },
  {
   "cell_type": "code",
   "execution_count": null,
   "metadata": {},
   "outputs": [],
   "source": []
  }
 ],
 "metadata": {
  "kernelspec": {
   "display_name": ".venv",
   "language": "python",
   "name": "python3"
  },
  "language_info": {
   "codemirror_mode": {
    "name": "ipython",
    "version": 3
   },
   "file_extension": ".py",
   "mimetype": "text/x-python",
   "name": "python",
   "nbconvert_exporter": "python",
   "pygments_lexer": "ipython3",
   "version": "3.9.6"
  }
 },
 "nbformat": 4,
 "nbformat_minor": 2
}
