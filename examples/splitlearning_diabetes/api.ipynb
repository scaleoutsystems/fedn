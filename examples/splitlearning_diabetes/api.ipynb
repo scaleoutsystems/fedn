{
 "cells": [
  {
   "cell_type": "code",
   "execution_count": 144,
   "metadata": {},
   "outputs": [],
   "source": [
    "from fedn import APIClient"
   ]
  },
  {
   "cell_type": "code",
   "execution_count": 145,
   "metadata": {},
   "outputs": [],
   "source": [
    "DISCOVER_HOST = '127.0.0.1'\n",
    "DISCOVER_PORT = 8092\n",
    "client = APIClient(DISCOVER_HOST, DISCOVER_PORT)"
   ]
  },
  {
   "cell_type": "code",
   "execution_count": 146,
   "metadata": {},
   "outputs": [
    {
     "data": {
      "text/plain": [
       "<fedn.network.api.client.APIClient at 0x11869a400>"
      ]
     },
     "execution_count": 146,
     "metadata": {},
     "output_type": "execute_result"
    }
   ],
   "source": [
    "client"
   ]
  },
  {
   "cell_type": "code",
   "execution_count": 147,
   "metadata": {},
   "outputs": [
    {
     "data": {
      "text/plain": [
       "{'count': 2,\n",
       " 'result': [{'client_id': 'c692d7ac-0e89-46da-b45a-b0d44ccfaff3',\n",
       "   'combiner': 'combinera0efa041',\n",
       "   'id': '67bf31a0fa28dc6a0de89120',\n",
       "   'ip': '127.0.0.1',\n",
       "   'last_seen': 'Wed, 26 Feb 2025 16:22:09 GMT',\n",
       "   'name': 'clientb3800839',\n",
       "   'package': 'local',\n",
       "   'status': 'online',\n",
       "   'updated_at': '2025-02-26 16:22:08.127951'},\n",
       "  {'client_id': 'd5cb469d-3d30-4e00-8b8b-d20de72c72da',\n",
       "   'combiner': 'combinera0efa041',\n",
       "   'id': '67bf319dfa28dc6a0de89117',\n",
       "   'ip': '127.0.0.1',\n",
       "   'last_seen': 'Wed, 26 Feb 2025 16:22:07 GMT',\n",
       "   'name': 'clientb6e86068',\n",
       "   'package': 'local',\n",
       "   'status': 'online',\n",
       "   'updated_at': '2025-02-26 16:22:05.559437'}]}"
      ]
     },
     "execution_count": 147,
     "metadata": {},
     "output_type": "execute_result"
    }
   ],
   "source": [
    "client.get_active_clients()"
   ]
  },
  {
   "cell_type": "code",
   "execution_count": 148,
   "metadata": {},
   "outputs": [
    {
     "data": {
      "text/plain": [
       "{'message': 'Compute package set.', 'success': True}"
      ]
     },
     "execution_count": 148,
     "metadata": {},
     "output_type": "execute_result"
    }
   ],
   "source": [
    "client.set_active_package('package.tgz', 'splitlearninghelper')"
   ]
  },
  {
   "cell_type": "code",
   "execution_count": 149,
   "metadata": {},
   "outputs": [
    {
     "data": {
      "text/plain": [
       "{'config': {'aggregator': 'splitlearningagg',\n",
       "  'buffer_size': -1,\n",
       "  'clients_requested': 8,\n",
       "  'clients_required': 1,\n",
       "  'delete_models_storage': True,\n",
       "  'helper_type': 'splitlearninghelper',\n",
       "  'round_timeout': 60,\n",
       "  'rounds': 50,\n",
       "  'server_functions': None,\n",
       "  'session_id': '1',\n",
       "  'task': '',\n",
       "  'validate': True},\n",
       " 'message': 'Split Learning Session started successfully.',\n",
       " 'success': True}"
      ]
     },
     "execution_count": 149,
     "metadata": {},
     "output_type": "execute_result"
    }
   ],
   "source": [
    "session_id = \"1\"\n",
    "\n",
    "session_config = {\n",
    "                    \"helper\": \"splitlearninghelper\",\n",
    "                    \"id\": session_id,\n",
    "                    \"aggregator\": \"splitlearningagg\",\n",
    "                    \"rounds\": 50,\n",
    "                    \"round_timeout\": 60\n",
    "                 }\n",
    "\n",
    "\n",
    "client.start_splitlearning_session(**session_config)"
   ]
  },
  {
   "cell_type": "markdown",
   "metadata": {},
   "source": []
  },
  {
   "cell_type": "code",
   "execution_count": null,
   "metadata": {},
   "outputs": [],
   "source": []
  }
 ],
 "metadata": {
  "kernelspec": {
   "display_name": ".venv",
   "language": "python",
   "name": "python3"
  },
  "language_info": {
   "codemirror_mode": {
    "name": "ipython",
    "version": 3
   },
   "file_extension": ".py",
   "mimetype": "text/x-python",
   "name": "python",
   "nbconvert_exporter": "python",
   "pygments_lexer": "ipython3",
   "version": "3.9.6"
  }
 },
 "nbformat": 4,
 "nbformat_minor": 2
}
