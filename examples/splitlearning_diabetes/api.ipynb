{
 "cells": [
  {
   "cell_type": "code",
   "execution_count": 242,
   "metadata": {},
   "outputs": [],
   "source": [
    "from fedn import APIClient"
   ]
  },
  {
   "cell_type": "code",
   "execution_count": 243,
   "metadata": {},
   "outputs": [],
   "source": [
    "DISCOVER_HOST = '127.0.0.1'\n",
    "DISCOVER_PORT = 8092\n",
    "client = APIClient(DISCOVER_HOST, DISCOVER_PORT)"
   ]
  },
  {
   "cell_type": "code",
   "execution_count": 244,
   "metadata": {},
   "outputs": [
    {
     "data": {
      "text/plain": [
       "<fedn.network.api.client.APIClient at 0x10843de80>"
      ]
     },
     "execution_count": 244,
     "metadata": {},
     "output_type": "execute_result"
    }
   ],
   "source": [
    "client"
   ]
  },
  {
   "cell_type": "code",
   "execution_count": 245,
   "metadata": {},
   "outputs": [
    {
     "data": {
      "text/plain": [
       "{'count': 1,\n",
       " 'result': [{'client_id': '206a8acb-f373-4d2d-a479-8fba0c83d58d',\n",
       "   'combiner': 'combiner2828e9e2',\n",
       "   'id': '67d7194af7217d24e783846e',\n",
       "   'ip': '127.0.0.1',\n",
       "   'last_seen': 'Sun, 16 Mar 2025 19:32:44 GMT',\n",
       "   'name': 'cliented0f7451',\n",
       "   'package': 'local',\n",
       "   'status': 'online',\n",
       "   'updated_at': 'Sun, 16 Mar 2025 19:32:44 GMT'}]}"
      ]
     },
     "execution_count": 245,
     "metadata": {},
     "output_type": "execute_result"
    }
   ],
   "source": [
    "client.get_active_clients()"
   ]
  },
  {
   "cell_type": "code",
   "execution_count": null,
   "metadata": {},
   "outputs": [
    {
     "data": {
      "text/plain": [
       "{'message': 'Splitlearning session started',\n",
       " 'session_id': 'eeb1edd7-d34b-41be-bb3d-e11411a41a16'}"
      ]
     },
     "execution_count": 246,
     "metadata": {},
     "output_type": "execute_result"
    }
   ],
   "source": [
    "session_config = {\n",
    "    \"name\": \"test_session\",\n",
    "    \"model_id\": \"1\",\n",
    "    \"helper\": \"splitlearninghelper\",\n",
    "    \"aggregator\": \"splitlearningagg\",\n",
    "    \"rounds\":50,\n",
    "    \"round_timeout\": 60,\n",
    "    \"validate\": True\n",
    "}\n",
    "\n",
    "\n",
    "client.start_splitlearning_session(**session_config)"
   ]
  },
  {
   "cell_type": "code",
   "execution_count": null,
   "metadata": {},
   "outputs": [],
   "source": []
  }
 ],
 "metadata": {
  "kernelspec": {
   "display_name": ".venv",
   "language": "python",
   "name": "python3"
  },
  "language_info": {
   "codemirror_mode": {
    "name": "ipython",
    "version": 3
   },
   "file_extension": ".py",
   "mimetype": "text/x-python",
   "name": "python",
   "nbconvert_exporter": "python",
   "pygments_lexer": "ipython3",
   "version": "3.9.6"
  }
 },
 "nbformat": 4,
 "nbformat_minor": 2
}
