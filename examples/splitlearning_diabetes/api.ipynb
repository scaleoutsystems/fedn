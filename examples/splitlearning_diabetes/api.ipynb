{
 "cells": [
  {
   "cell_type": "code",
   "execution_count": 20,
   "metadata": {},
   "outputs": [],
   "source": [
    "from fedn import APIClient"
   ]
  },
  {
   "cell_type": "code",
   "execution_count": 21,
   "metadata": {},
   "outputs": [],
   "source": [
    "DISCOVER_HOST = '127.0.0.1'\n",
    "DISCOVER_PORT = 8092\n",
    "client = APIClient(DISCOVER_HOST, DISCOVER_PORT)"
   ]
  },
  {
   "cell_type": "code",
   "execution_count": 22,
   "metadata": {},
   "outputs": [
    {
     "data": {
      "text/plain": [
       "<fedn.network.api.client.APIClient at 0x10884b700>"
      ]
     },
     "execution_count": 22,
     "metadata": {},
     "output_type": "execute_result"
    }
   ],
   "source": [
    "client"
   ]
  },
  {
   "cell_type": "code",
   "execution_count": 23,
   "metadata": {},
   "outputs": [
    {
     "data": {
      "text/plain": [
       "{'count': 2,\n",
       " 'result': [{'client_id': 'c42a8d61-c008-4a49-91e9-d23cd5e21b03',\n",
       "   'combiner': 'combiner19d3382e',\n",
       "   'id': '67c19b41c9642f6c88d25d57',\n",
       "   'ip': '127.0.0.1',\n",
       "   'last_seen': 'Fri, 28 Feb 2025 12:17:22 GMT',\n",
       "   'name': 'cliente174e16b',\n",
       "   'package': 'local',\n",
       "   'status': 'online',\n",
       "   'updated_at': 'Fri, 28 Feb 2025 12:17:22 GMT'},\n",
       "  {'client_id': '5717dce8-2183-45e0-93d4-e84263285e9c',\n",
       "   'combiner': 'combiner19d3382e',\n",
       "   'id': '67c19b3ec9642f6c88d25d4d',\n",
       "   'ip': '127.0.0.1',\n",
       "   'last_seen': 'Fri, 28 Feb 2025 12:17:20 GMT',\n",
       "   'name': 'client8c9fa66d',\n",
       "   'package': 'local',\n",
       "   'status': 'online',\n",
       "   'updated_at': 'Fri, 28 Feb 2025 12:17:20 GMT'}]}"
      ]
     },
     "execution_count": 23,
     "metadata": {},
     "output_type": "execute_result"
    }
   ],
   "source": [
    "client.get_active_clients()"
   ]
  },
  {
   "cell_type": "code",
   "execution_count": 24,
   "metadata": {},
   "outputs": [
    {
     "data": {
      "text/plain": [
       "{'message': 'Package uploaded'}"
      ]
     },
     "execution_count": 24,
     "metadata": {},
     "output_type": "execute_result"
    }
   ],
   "source": [
    "client.set_active_package('package.tgz', 'splitlearninghelper', \"packagename\")"
   ]
  },
  {
   "cell_type": "code",
   "execution_count": 25,
   "metadata": {},
   "outputs": [
    {
     "data": {
      "text/plain": [
       "{'message': 'Splitlearning session started',\n",
       " 'session_id': 'cca049d6-3b36-49f4-8362-d301d724f4e2'}"
      ]
     },
     "execution_count": 25,
     "metadata": {},
     "output_type": "execute_result"
    }
   ],
   "source": [
    "session_config = {\n",
    "    \"name\": \"test_session\",\n",
    "    \"model_id\": \"1\",\n",
    "    \"helper\": \"splitlearninghelper\",\n",
    "    \"aggregator\": \"splitlearningagg\",\n",
    "    \"rounds\": 3,\n",
    "    \"round_timeout\": 180,\n",
    "    \"min_clients\": 1,\n",
    "}\n",
    "\n",
    "\n",
    "client.start_splitlearning_session(**session_config)"
   ]
  }
 ],
 "metadata": {
  "kernelspec": {
   "display_name": ".venv",
   "language": "python",
   "name": "python3"
  },
  "language_info": {
   "codemirror_mode": {
    "name": "ipython",
    "version": 3
   },
   "file_extension": ".py",
   "mimetype": "text/x-python",
   "name": "python",
   "nbconvert_exporter": "python",
   "pygments_lexer": "ipython3",
   "version": "3.9.6"
  }
 },
 "nbformat": 4,
 "nbformat_minor": 2
}
