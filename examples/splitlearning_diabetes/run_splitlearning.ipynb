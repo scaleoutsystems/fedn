{
 "cells": [
  {
   "cell_type": "code",
   "execution_count": 45,
   "metadata": {},
   "outputs": [],
   "source": [
    "from fedn import APIClient"
   ]
  },
  {
   "cell_type": "code",
   "execution_count": 46,
   "metadata": {},
   "outputs": [],
   "source": [
    "DISCOVER_HOST = '127.0.0.1'\n",
    "DISCOVER_PORT = 8092\n",
    "client = APIClient(DISCOVER_HOST, DISCOVER_PORT)"
   ]
  },
  {
   "cell_type": "code",
   "execution_count": 47,
   "metadata": {},
   "outputs": [],
   "source": [
    "client.set_active_package('client/package.tgz', 'splitlearninghelper', 'package-name')"
   ]
  },
  {
   "cell_type": "code",
   "execution_count": 48,
   "metadata": {},
   "outputs": [
    {
     "data": {
      "text/plain": [
       "{'count': 2,\n",
       " 'result': [{'client_id': '74e6e1c9-95db-4613-9b20-91706e680d79',\n",
       "   'combiner': 'combiner',\n",
       "   'combiner_preferred': None,\n",
       "   'committed_at': 'Tue, 13 May 2025 12:27:23 GMT',\n",
       "   'ip': '172.18.0.1',\n",
       "   'last_seen': 'Tue, 13 May 2025 12:27:25 GMT',\n",
       "   'name': 'client23c044d9',\n",
       "   'package': 'local',\n",
       "   'status': 'online',\n",
       "   'updated_at': 'Tue, 13 May 2025 12:27:25 GMT'},\n",
       "  {'client_id': '213568c9-df82-42a2-a6c8-43809833e930',\n",
       "   'combiner': 'combiner',\n",
       "   'combiner_preferred': None,\n",
       "   'committed_at': 'Tue, 13 May 2025 12:27:21 GMT',\n",
       "   'ip': '172.18.0.1',\n",
       "   'last_seen': 'Tue, 13 May 2025 12:27:23 GMT',\n",
       "   'name': 'client307e271e',\n",
       "   'package': 'local',\n",
       "   'status': 'online',\n",
       "   'updated_at': 'Tue, 13 May 2025 12:27:23 GMT'}]}"
      ]
     },
     "execution_count": 48,
     "metadata": {},
     "output_type": "execute_result"
    }
   ],
   "source": [
    "client.get_active_clients()"
   ]
  },
  {
   "cell_type": "code",
   "execution_count": 49,
   "metadata": {},
   "outputs": [
    {
     "data": {
      "text/plain": [
       "{'message': 'Splitlearning session started',\n",
       " 'session_id': '2390fbb8-8c61-419a-bf07-01e1ef03c64b'}"
      ]
     },
     "execution_count": 49,
     "metadata": {},
     "output_type": "execute_result"
    }
   ],
   "source": [
    "session_config = {\n",
    "    \"name\": \"test_session\",\n",
    "    \"model_id\": \"1\",\n",
    "    \"helper\": \"splitlearninghelper\",\n",
    "    \"aggregator\": \"splitlearningagg\",\n",
    "    \"rounds\": 50,\n",
    "    \"round_timeout\": 60,\n",
    "    \"validate\": True\n",
    "}\n",
    "\n",
    "client.start_session(**session_config)"
   ]
  },
  {
   "cell_type": "code",
   "execution_count": null,
   "metadata": {},
   "outputs": [],
   "source": []
  }
 ],
 "metadata": {
  "kernelspec": {
   "display_name": ".venv",
   "language": "python",
   "name": "python3"
  },
  "language_info": {
   "codemirror_mode": {
    "name": "ipython",
    "version": 3
   },
   "file_extension": ".py",
   "mimetype": "text/x-python",
   "name": "python",
   "nbconvert_exporter": "python",
   "pygments_lexer": "ipython3",
   "version": "3.9.6"
  }
 },
 "nbformat": 4,
 "nbformat_minor": 2
}
