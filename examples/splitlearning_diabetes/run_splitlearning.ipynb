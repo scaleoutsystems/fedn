{
 "cells": [
  {
   "cell_type": "code",
   "execution_count": 7,
   "metadata": {},
   "outputs": [],
   "source": [
    "from fedn import APIClient"
   ]
  },
  {
   "cell_type": "code",
   "execution_count": 8,
   "metadata": {},
   "outputs": [],
   "source": [
    "DISCOVER_HOST = '127.0.0.1'\n",
    "DISCOVER_PORT = 8092\n",
    "client = APIClient(DISCOVER_HOST, DISCOVER_PORT)"
   ]
  },
  {
   "cell_type": "code",
   "execution_count": 9,
   "metadata": {},
   "outputs": [
    {
     "data": {
      "text/plain": [
       "{'message': 'Package uploaded'}"
      ]
     },
     "execution_count": 9,
     "metadata": {},
     "output_type": "execute_result"
    }
   ],
   "source": [
    "client.set_active_package('package.tgz', 'splitlearninghelper', 'package-name')"
   ]
  },
  {
   "cell_type": "code",
   "execution_count": 10,
   "metadata": {},
   "outputs": [
    {
     "data": {
      "text/plain": [
       "{'count': 2,\n",
       " 'result': [{'client_id': '65b69bb3-ca3f-4019-8be1-6fb7646b7684',\n",
       "   'combiner': 'combiner',\n",
       "   'combiner_preferred': None,\n",
       "   'committed_at': 'Mon, 28 Apr 2025 11:48:43 GMT',\n",
       "   'ip': '172.18.0.9',\n",
       "   'last_seen': 'Mon, 28 Apr 2025 11:49:27 GMT',\n",
       "   'name': 'clientba861f14',\n",
       "   'package': 'remote',\n",
       "   'status': 'online'},\n",
       "  {'client_id': 'f55614f9-9a38-4472-b6e3-6250868c4da8',\n",
       "   'combiner': 'combiner',\n",
       "   'combiner_preferred': None,\n",
       "   'committed_at': 'Mon, 28 Apr 2025 11:48:43 GMT',\n",
       "   'ip': '172.18.0.8',\n",
       "   'last_seen': 'Mon, 28 Apr 2025 11:53:04 GMT',\n",
       "   'name': 'client720ad2da',\n",
       "   'package': 'remote',\n",
       "   'status': 'online'}]}"
      ]
     },
     "execution_count": 10,
     "metadata": {},
     "output_type": "execute_result"
    }
   ],
   "source": [
    "client.get_active_clients()"
   ]
  },
  {
   "cell_type": "code",
   "execution_count": 11,
   "metadata": {},
   "outputs": [
    {
     "data": {
      "text/plain": [
       "{'message': 'Splitlearning session started',\n",
       " 'session_id': '82789628-d4da-437e-a8be-e31cbaa4c701'}"
      ]
     },
     "execution_count": 11,
     "metadata": {},
     "output_type": "execute_result"
    }
   ],
   "source": [
    "session_config = {\n",
    "    \"name\": \"test_session\",\n",
    "    \"model_id\": \"1\",\n",
    "    \"helper\": \"splitlearninghelper\",\n",
    "    \"aggregator\": \"splitlearningagg\",\n",
    "    \"rounds\": 5,\n",
    "    \"round_timeout\": 60,\n",
    "    \"validate\": True\n",
    "}\n",
    "\n",
    "client.start_session(**session_config)"
   ]
  },
  {
   "cell_type": "code",
   "execution_count": null,
   "metadata": {},
   "outputs": [],
   "source": []
  }
 ],
 "metadata": {
  "kernelspec": {
   "display_name": ".venv",
   "language": "python",
   "name": "python3"
  },
  "language_info": {
   "codemirror_mode": {
    "name": "ipython",
    "version": 3
   },
   "file_extension": ".py",
   "mimetype": "text/x-python",
   "name": "python",
   "nbconvert_exporter": "python",
   "pygments_lexer": "ipython3",
   "version": "3.9.6"
  }
 },
 "nbformat": 4,
 "nbformat_minor": 2
}
