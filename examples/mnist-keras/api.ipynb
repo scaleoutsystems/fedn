{
 "cells": [
  {
   "cell_type": "code",
   "execution_count": 45,
   "metadata": {},
   "outputs": [],
   "source": [
    "from fedn import APIClient\n",
    "\n",
    "DISCOVER_HOST = '127.0.0.1'\n",
    "DISCOVER_PORT = 8092\n",
    "client = APIClient(DISCOVER_HOST, DISCOVER_PORT)\n"
   ]
  },
  {
   "cell_type": "code",
   "execution_count": 46,
   "metadata": {},
   "outputs": [
    {
     "data": {
      "text/plain": [
       "{'count': 1,\n",
       " 'result': [{'client_id': '691fbae1-82b3-477c-80c9-71532619bb8c',\n",
       "   'combiner': 'combinerf68a484c',\n",
       "   'id': '67c1b7bede83316be7f7f3a0',\n",
       "   'ip': '127.0.0.1',\n",
       "   'last_seen': 'Fri, 28 Feb 2025 14:18:56 GMT',\n",
       "   'name': 'client847',\n",
       "   'package': 'local',\n",
       "   'status': 'online',\n",
       "   'updated_at': 'Fri, 28 Feb 2025 14:18:56 GMT'}]}"
      ]
     },
     "execution_count": 46,
     "metadata": {},
     "output_type": "execute_result"
    }
   ],
   "source": [
    "client.get_active_clients()"
   ]
  },
  {
   "cell_type": "code",
   "execution_count": 47,
   "metadata": {},
   "outputs": [
    {
     "data": {
      "text/plain": [
       "{'message': 'Package uploaded'}"
      ]
     },
     "execution_count": 47,
     "metadata": {},
     "output_type": "execute_result"
    }
   ],
   "source": [
    "client.set_active_package(\"package.tgz\", helper=\"numpyhelper\", name=\"my-package\")"
   ]
  },
  {
   "cell_type": "code",
   "execution_count": 48,
   "metadata": {},
   "outputs": [
    {
     "data": {
      "text/plain": [
       "{'message': 'Model added successfully', 'success': True}"
      ]
     },
     "execution_count": 48,
     "metadata": {},
     "output_type": "execute_result"
    }
   ],
   "source": [
    "client.set_active_model(\"seed.npz\")"
   ]
  },
  {
   "cell_type": "code",
   "execution_count": 49,
   "metadata": {},
   "outputs": [
    {
     "name": "stdout",
     "output_type": "stream",
     "text": [
      "{'committed_at': 'Fri, 28 Feb 2025 14:19:02 GMT', 'id': '67c1b7c6bf8f4668c1e479c2', 'key': 'models', 'model': '6062bdd5-aa82-4361-a766-c10d4a108ce0', 'name': None, 'parent_model': None, 'session_id': None}\n"
     ]
    }
   ],
   "source": [
    "seed_model = client.get_active_model()\n",
    "print(seed_model)"
   ]
  },
  {
   "cell_type": "code",
   "execution_count": 50,
   "metadata": {},
   "outputs": [],
   "source": [
    "session_id = \"experiment1\"\n",
    "\n",
    "# session_config = {\n",
    "#                   \"name\": \"session\",\n",
    "#                     \"helper\": \"numpyhelper\",\n",
    "#                     \"aggregator\": \"fedavg\",\n",
    "#                     \"model_id\": seed_model['model'],\n",
    "#                     \"rounds\": 5\n",
    "#                  }\n",
    "session_config = {\n",
    "    \"name\": session_id,         # This is the key missing parameter\n",
    "    \"helper\": \"numpyhelper\",\n",
    "    \"aggregator\": \"fedavg\",\n",
    "    \"model_id\": seed_model['model'],\n",
    "    \"rounds\": 5,\n",
    "}\n",
    "result_fedavg = client.start_session(**session_config)"
   ]
  },
  {
   "cell_type": "code",
   "execution_count": null,
   "metadata": {},
   "outputs": [],
   "source": []
  }
 ],
 "metadata": {
  "kernelspec": {
   "display_name": ".venv",
   "language": "python",
   "name": "python3"
  },
  "language_info": {
   "codemirror_mode": {
    "name": "ipython",
    "version": 3
   },
   "file_extension": ".py",
   "mimetype": "text/x-python",
   "name": "python",
   "nbconvert_exporter": "python",
   "pygments_lexer": "ipython3",
   "version": "3.9.6"
  }
 },
 "nbformat": 4,
 "nbformat_minor": 2
}
