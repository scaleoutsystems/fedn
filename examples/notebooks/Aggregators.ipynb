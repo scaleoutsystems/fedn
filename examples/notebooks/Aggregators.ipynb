{
 "cells": [
  {
   "cell_type": "markdown",
   "id": "622f7047",
   "metadata": {},
   "source": [
    "## Use of different Aggregators\n",
    "\n",
    "This notebook shows how to use different Aggregators (FedAvg, FedAdam, FedYogi, FedAdaGrad). \n",
    "\n",
    "When you start this tutorial you should either have an account and project in FEDn Studio, or have deployed a FEDn in pseudo-distributed  mode. You should also have created the compute package and the initial model, see README.md for instructions.\n",
    "\n",
    "    \n",
    "Note that this notebook is intended to showcase the aggregator API. Fine-tuning of the server-side hyperparameters would be necessary for optimal performance and will need to be done a use-case basis."
   ]
  },
  {
   "cell_type": "code",
   "execution_count": 1,
   "id": "743dfe47",
   "metadata": {},
   "outputs": [],
   "source": [
    "from fedn import APIClient\n",
    "import time\n",
    "import uuid\n",
    "import json\n",
    "import matplotlib.pyplot as plt\n",
    "import numpy as np\n",
    "import collections"
   ]
  },
  {
   "cell_type": "markdown",
   "id": "1046a4e5",
   "metadata": {},
   "source": [
    "We make a client connection to the FEDn API service. Here we assume that FEDn is deployed locally in pseudo-distributed mode with default ports. To connect to Studio, generate an API token from the UI, and retrive the controller host URI from the Dashboard.  "
   ]
  },
  {
   "cell_type": "code",
   "execution_count": 2,
   "id": "1061722d",
   "metadata": {},
   "outputs": [],
   "source": [
    "DISCOVER_HOST = '127.0.0.1'\n",
    "DISCOVER_PORT = 8092\n",
    "client = APIClient(DISCOVER_HOST, DISCOVER_PORT)"
   ]
  },
  {
   "cell_type": "markdown",
   "id": "07f69f5f",
   "metadata": {},
   "source": [
    "Initialize FEDn with the compute package and seed model. Note that these files needs to be created separately by follwing instructions in the README."
   ]
  },
  {
   "cell_type": "code",
   "execution_count": 3,
   "id": "5107f6f9",
   "metadata": {},
   "outputs": [
    {
     "name": "stdout",
     "output_type": "stream",
     "text": [
      "{'committed_at': 'Mon, 29 Apr 2024 12:32:32 GMT', 'id': '662f9360bd714f51875ea837', 'key': 'models', 'model': '0f20258a-82ab-4e24-a259-5d507503026d', 'parent_model': None, 'session_id': None}\n"
     ]
    }
   ],
   "source": [
    "client.set_active_package('../mnist-pytorch/package.tgz', 'numpyhelper')\n",
    "client.set_active_model('../mnist-pytorch/seed.npz')\n",
    "seed_model = client.get_active_model()\n",
    "print(seed_model)"
   ]
  },
  {
   "cell_type": "markdown",
   "id": "4e26c50b",
   "metadata": {},
   "source": [
    "### FedAvg"
   ]
  },
  {
   "cell_type": "code",
   "execution_count": 5,
   "id": "f0380d35",
   "metadata": {},
   "outputs": [],
   "source": [
    "session_id = \"experiment_fedavg\"\n",
    "\n",
    "session_config = {\n",
    "                    \"helper\": \"numpyhelper\",\n",
    "                    \"id\": session_id,\n",
    "                    \"model_id\": seed_model['model'],\n",
    "                    \"rounds\": 10\n",
    "                 }\n",
    "\n",
    "result_fedavg = client.start_session(**session_config)\n",
    "\n",
    "# We wait for the session to finish\n",
    "while not client.session_is_finished(session_config['id']):\n",
    "    time.sleep(2)"
   ]
  },
  {
   "cell_type": "markdown",
   "id": "6cd9b26b-9ea7-4d65-9f23-7f14c54c4ef0",
   "metadata": {},
   "source": [
    "### FedAdam\n",
    "\n",
    "Here we use the FedOpt family of aggregation algorithms. FEDn support adam, yogi and adagrad as server side optimizers. In the session_config below we illustrate how to set hyperparamters (will be valid for this session). The values below are actually the default values and are passed here for illustrative purposes.\n",
    "\n",
    "**Note that the server side-momentum terms are only retained within one session - each new session you will re-initialize the optimizer to default values.** "
   ]
  },
  {
   "cell_type": "code",
   "execution_count": 4,
   "id": "dfd69029-4ec5-4ebc-9121-b8ecde421afe",
   "metadata": {},
   "outputs": [],
   "source": [
    "session_id = \"experiment_fedadam\"\n",
    "\n",
    "session_config = {\n",
    "                    \"helper\": \"numpyhelper\",\n",
    "                    \"id\": session_id,\n",
    "                    \"aggregator\": \"fedopt\",\n",
    "                    \"aggregator_kwargs\": {\n",
    "                        \"serveropt\": \"adam\",\n",
    "                        \"learning_rate\": 1e-2,\n",
    "                        \"beta1\": 0.9,\n",
    "                        \"beta2\": 0.99,\n",
    "                        \"tau\": 1e-4\n",
    "                        },\n",
    "                    \"model_id\": seed_model['model'],\n",
    "                    \"rounds\": 10\n",
    "                 }\n",
    "\n",
    "result_fedadam = client.start_session(**session_config)\n",
    "\n",
    "# We wait for the session to finish\n",
    "while not client.session_is_finished(session_config['id']):\n",
    "    time.sleep(2)"
   ]
  },
  {
   "cell_type": "markdown",
   "id": "a6d2de1f-4b28-402f-a6c3-1b91beb0b889",
   "metadata": {},
   "source": [
    "### FedYogi"
   ]
  },
  {
   "cell_type": "code",
   "execution_count": 70,
   "id": "018b4a7a-96af-49ca-8c52-6bac7a9de357",
   "metadata": {},
   "outputs": [],
   "source": [
    "session_id = \"experiment_fedyogi\"\n",
    "\n",
    "session_config = {\n",
    "                    \"helper\": \"numpyhelper\",\n",
    "                    \"id\": session_id,\n",
    "                    \"aggregator\": \"fedopt\",\n",
    "                    \"aggregator_kwargs\": {\n",
    "                        \"serveropt\": \"yogi\",\n",
    "                        \"learning_rate\": 1e-2,\n",
    "                        },\n",
    "                    \"model_id\": seed_model['model'],\n",
    "                    \"rounds\": 10\n",
    "                 }\n",
    "\n",
    "result_fedyogi = client.start_session(**session_config)\n",
    "while not client.session_is_finished(session_config['id']):\n",
    "    time.sleep(2)"
   ]
  },
  {
   "cell_type": "markdown",
   "id": "3432d6d5-84cb-4825-9ae9-5bc932ceea77",
   "metadata": {},
   "source": [
    "### FedAdaGrad"
   ]
  },
  {
   "cell_type": "code",
   "execution_count": 7,
   "id": "10827f50-ebf4-458c-9bbe-114e7412ada1",
   "metadata": {},
   "outputs": [],
   "source": [
    "session_id = \"experiment_fedadagrad\"\n",
    "\n",
    "session_config = {\n",
    "                    \"helper\": \"numpyhelper\",\n",
    "                    \"id\": session_id,\n",
    "                    \"aggregator\": \"fedopt\",\n",
    "                    \"aggregator_kwargs\": {\n",
    "                        \"serveropt\": \"adagrad\",\n",
    "                        \"learning_rate\": 1e-1,\n",
    "                        },           \n",
    "                    \"model_id\": seed_model['model'],\n",
    "                    \"rounds\": 10\n",
    "                 }\n",
    "\n",
    "result_fedadagrad = client.start_session(**session_config)\n",
    "while not client.session_is_finished(session_config['id']):\n",
    "    time.sleep(2)"
   ]
  },
  {
   "cell_type": "markdown",
   "id": "16874cec",
   "metadata": {},
   "source": [
    "Next, we get the model trail, retrieve all model validations from all clients, extract the training accuracy metric, and compute its mean value accross all clients."
   ]
  },
  {
   "cell_type": "code",
   "execution_count": 9,
   "id": "6f68c692-d299-430e-a253-a4f21f16789d",
   "metadata": {},
   "outputs": [],
   "source": [
    "from collections import OrderedDict\n",
    "def get_validation_acc(session_id):\n",
    "    validations = client.get_validations(session_id)\n",
    "    acc = OrderedDict()\n",
    "    for validation in validations['result']:\n",
    "       try:   \n",
    "           acc[validation['model_id']].append(json.loads(validation['data'])['training_accuracy'])\n",
    "       except:\n",
    "           acc[validation['model_id']] = [json.loads(validation['data'])['training_accuracy']]\n",
    "\n",
    "    accuracy_score = []\n",
    "    for key, value in acc.items():\n",
    "        accuracy_score.append(np.mean(value))\n",
    "    accuracy_score.reverse()\n",
    "    return(accuracy_score)\n",
    "    \n",
    "score = get_validation_acc(\"experiment_fedadagrad\")"
   ]
  },
  {
   "cell_type": "code",
   "execution_count": 10,
   "id": "4e8044b7",
   "metadata": {},
   "outputs": [],
   "source": [
    "mean_acc_fedavg = get_validation_acc(\"experiment_fedavg\")\n",
    "mean_acc_fedadam = get_validation_acc(\"experiment_fedadam\")\n",
    "mean_acc_yogi = get_validation_acc(\"experiment_fedyogi\")\n",
    "mean_acc_adagrad = get_validation_acc(\"experiment_fedadagrad\")"
   ]
  },
  {
   "cell_type": "code",
   "execution_count": 11,
   "id": "42425c43",
   "metadata": {},
   "outputs": [
    {
     "data": {
      "text/plain": [
       "<matplotlib.legend.Legend at 0x11a2a7820>"
      ]
     },
     "execution_count": 11,
     "metadata": {},
     "output_type": "execute_result"
    },
    {
     "data": {
      "image/png": "[encoded data removed]",
      "text/plain": [
       "<Figure size 640x480 with 1 Axes>"
      ]
     },
     "metadata": {},
     "output_type": "display_data"
    }
   ],
   "source": [
    "x = range(1,len(mean_acc_fedavg)+1)\n",
    "plt.plot(x,mean_acc_fedavg, x, mean_acc_fedadam, x, mean_acc_yogi, x, mean_acc_adagrad)\n",
    "plt.legend(['FedAvg','FedAdam', 'FedYogi', 'FedAdaGrad'])"
   ]
  },
  {
   "cell_type": "code",
   "execution_count": null,
   "id": "ebe64167-0ad2-4645-b44c-bf701f978af1",
   "metadata": {},
   "outputs": [],
   "source": []
  }
 ],
 "metadata": {
  "kernelspec": {
   "display_name": "Python 3 (ipykernel)",
   "language": "python",
   "name": "python3"
  },
  "language_info": {
   "codemirror_mode": {
    "name": "ipython",
    "version": 3
   },
   "file_extension": ".py",
   "mimetype": "text/x-python",
   "name": "python",
   "nbconvert_exporter": "python",
   "pygments_lexer": "ipython3",
   "version": "3.10.6"
  }
 },
 "nbformat": 4,
 "nbformat_minor": 5
}
