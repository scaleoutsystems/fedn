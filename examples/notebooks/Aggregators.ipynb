{
 "cells": [
  {
   "cell_type": "markdown",
   "id": "622f7047",
   "metadata": {},
   "source": [
    "## Use of different Aggregators\n",
    "\n",
    "This notebook shows how to use different Aggregators.\n",
    "\n",
    "When you start this tutorial you should either have an account and project in FEDn Studio, or have deployed a FEDn in pseudo-distributed  mode. You should also have created the compute package and the initial model, see README.md for instructions."
   ]
  },
  {
   "cell_type": "code",
   "execution_count": 1,
   "id": "743dfe47",
   "metadata": {},
   "outputs": [],
   "source": [
    "from fedn import APIClient\n",
    "import time\n",
    "import uuid\n",
    "import json\n",
    "import matplotlib.pyplot as plt\n",
    "import numpy as np\n",
    "import collections"
   ]
  },
  {
   "cell_type": "markdown",
   "id": "1046a4e5",
   "metadata": {},
   "source": [
    "We make a client connection to the FEDn API service. Here we assume that FEDn is deployed locally in pseudo-distributed mode with default ports. To connect to Studio, generate an API token from the UI, and retrive the controller host URI from the Dashboard.  "
   ]
  },
  {
   "cell_type": "code",
   "execution_count": 2,
   "id": "1061722d",
   "metadata": {},
   "outputs": [],
   "source": [
    "DISCOVER_HOST = '127.0.0.1'\n",
    "DISCOVER_PORT = 8092\n",
    "client = APIClient(DISCOVER_HOST, DISCOVER_PORT)"
   ]
  },
  {
   "cell_type": "markdown",
   "id": "07f69f5f",
   "metadata": {},
   "source": [
    "Initialize FEDn with the compute package and seed model. Note that these files needs to be created separately by follwing instructions in the README."
   ]
  },
  {
   "cell_type": "code",
   "execution_count": 3,
   "id": "5107f6f9",
   "metadata": {},
   "outputs": [
    {
     "name": "stdout",
     "output_type": "stream",
     "text": [
      "{'committed_at': 'Sat, 13 Apr 2024 18:44:33 GMT', 'id': '661ad2919c2e200bea276f77', 'key': 'models', 'model': '9072741c-383d-47a2-89b5-6e7608ddb80b', 'parent_model': None, 'session_id': None}\n"
     ]
    }
   ],
   "source": [
    "client.set_active_package('package.tgz', 'numpyhelper')\n",
    "client.set_active_model('seed.npz')\n",
    "seed_model = client.get_active_model()\n",
    "print(seed_model)"
   ]
  },
  {
   "cell_type": "markdown",
   "id": "4e26c50b",
   "metadata": {},
   "source": [
    "### FedAvg"
   ]
  },
  {
   "cell_type": "code",
   "execution_count": 11,
   "id": "f0380d35",
   "metadata": {},
   "outputs": [],
   "source": [
    "session_id = \"experiment_fedavg\"\n",
    "\n",
    "session_config = {\n",
    "                    \"helper\": \"numpyhelper\",\n",
    "                    \"id\": session_id,\n",
    "                    \"model_id\": seed_model['model'],\n",
    "                    \"rounds\": 10\n",
    "                 }\n",
    "\n",
    "result_fedavg = client.start_session(**session_config)\n",
    "\n",
    "# We wait for the session to finish\n",
    "while not client.session_is_finished(session_config['id']):\n",
    "    time.sleep(2)"
   ]
  },
  {
   "cell_type": "markdown",
   "id": "6cd9b26b-9ea7-4d65-9f23-7f14c54c4ef0",
   "metadata": {},
   "source": [
    "### FedAdam\n",
    "\n",
    "Here we use the FedOpt family of aggregation algorithms. FEDn support adam, yogi and adagrad as server side optimizers. In the session_config below we illustrate how to set hyperparamters (will be valid for this session). The values below are actually the default values and are passed here for illustrative purposes.\n",
    "\n",
    "**Note that the server side-momentum terms are only retained within one session - each new session you will re-initialize the optimizer to default values.** "
   ]
  },
  {
   "cell_type": "code",
   "execution_count": 6,
   "id": "dfd69029-4ec5-4ebc-9121-b8ecde421afe",
   "metadata": {},
   "outputs": [],
   "source": [
    "session_id = \"experiment_fedadam\"\n",
    "\n",
    "session_config = {\n",
    "                    \"helper\": \"numpyhelper\",\n",
    "                    \"id\": session_id,\n",
    "                    \"aggregator\": \"fedopt\",\n",
    "                    \"aggregator_kwargs\": {\n",
    "                        \"serveropt\": \"adam\",\n",
    "                        \"learning_rate\": 1e-3,\n",
    "                        \"beta1\": 0.9,\n",
    "                        \"beta2\": 0.99,\n",
    "                        \"tau\": 1e-4\n",
    "                        },\n",
    "                    \"model_id\": seed_model['model'],\n",
    "                    \"rounds\": 1\n",
    "                 }\n",
    "\n",
    "result_fedadam = client.start_session(**session_config)\n",
    "\n",
    "# We wait for the session to finish\n",
    "while not client.session_is_finished(session_config['id']):\n",
    "    time.sleep(2)"
   ]
  },
  {
   "cell_type": "markdown",
   "id": "a6d2de1f-4b28-402f-a6c3-1b91beb0b889",
   "metadata": {},
   "source": [
    "### FedYogi"
   ]
  },
  {
   "cell_type": "code",
   "execution_count": 12,
   "id": "018b4a7a-96af-49ca-8c52-6bac7a9de357",
   "metadata": {},
   "outputs": [],
   "source": [
    "session_id = \"experiment_fedyogi\"\n",
    "\n",
    "session_config = {\n",
    "                    \"helper\": \"numpyhelper\",\n",
    "                    \"id\": session_id,\n",
    "                    \"aggregator\": \"fedopt\",\n",
    "                    \"aggregator_kwargs\": {\n",
    "                        \"serveropt\": \"yogi\",\n",
    "                        },\n",
    "                    \"model_id\": seed_model['model'],\n",
    "                    \"rounds\": 1\n",
    "                 }\n",
    "\n",
    "result_fedyogi = client.start_session(**session_config)\n",
    "while not client.session_is_finished(session_config['id']):\n",
    "    time.sleep(2)"
   ]
  },
  {
   "cell_type": "markdown",
   "id": "3432d6d5-84cb-4825-9ae9-5bc932ceea77",
   "metadata": {},
   "source": [
    "### FedAdaGrad"
   ]
  },
  {
   "cell_type": "code",
   "execution_count": 8,
   "id": "10827f50-ebf4-458c-9bbe-114e7412ada1",
   "metadata": {},
   "outputs": [],
   "source": [
    "session_id = \"experiment_fedadagrad\"\n",
    "\n",
    "session_config = {\n",
    "                    \"helper\": \"numpyhelper\",\n",
    "                    \"id\": session_id,\n",
    "                    \"aggregator\": \"fedopt\",\n",
    "                    \"aggregator_kwargs\": {\n",
    "                        \"serveropt\": \"adagrad\",\n",
    "                        },           \n",
    "                    \"model_id\": seed_model['model'],\n",
    "                    \"rounds\": 1\n",
    "                 }\n",
    "\n",
    "result_fedadagrad = client.start_session(**session_config)\n",
    "while not client.session_is_finished(session_config['id']):\n",
    "    time.sleep(2)"
   ]
  },
  {
   "cell_type": "markdown",
   "id": "16874cec",
   "metadata": {},
   "source": [
    "Next, we get the model trail, retrieve all model validations from all clients, extract the training accuracy metric, and compute its mean value accross all clients."
   ]
  },
  {
   "cell_type": "code",
   "execution_count": 13,
   "id": "4e8044b7",
   "metadata": {},
   "outputs": [
    {
     "name": "stderr",
     "output_type": "stream",
     "text": [
      "/Users/andreash/miniforge3/lib/python3.10/site-packages/numpy/core/fromnumeric.py:3474: RuntimeWarning: Mean of empty slice.\n",
      "  return _methods._mean(a, axis=axis, dtype=dtype,\n",
      "/Users/andreash/miniforge3/lib/python3.10/site-packages/numpy/core/_methods.py:189: RuntimeWarning: invalid value encountered in double_scalars\n",
      "  ret = ret.dtype.type(ret / rcount)\n"
     ]
    }
   ],
   "source": [
    "session_id = \"experiment_fedavg\"\n",
    "models = client.get_model_trail()\n",
    "\n",
    "acc = []\n",
    "for model in models:\n",
    "    \n",
    "    model_id = model[\"model\"]\n",
    "    validations = client.get_validations(model_id=model_id)\n",
    "\n",
    "    a = []\n",
    "    for validation in validations['result']: \n",
    "        metrics = json.loads(validation['data'])\n",
    "        a.append(metrics['training_accuracy'])\n",
    "        \n",
    "    acc.append(a)\n",
    "\n",
    "mean_acc = [np.mean(x) for x in acc]"
   ]
  },
  {
   "cell_type": "code",
   "execution_count": 14,
   "id": "42425c43",
   "metadata": {},
   "outputs": [
    {
     "data": {
      "text/plain": [
       "<matplotlib.legend.Legend at 0x116492980>"
      ]
     },
     "execution_count": 14,
     "metadata": {},
     "output_type": "execute_result"
    },
    {
     "data": {
      "image/png": "[encoded data removed]",
      "text/plain": [
       "<Figure size 640x480 with 1 Axes>"
      ]
     },
     "metadata": {},
     "output_type": "display_data"
    }
   ],
   "source": [
    "x = range(1,len(mean_acc)+1)\n",
    "plt.plot(x, mean_acc)\n",
    "plt.legend(['Training Accuracy (FedAvg)'])"
   ]
  },
  {
   "cell_type": "code",
   "execution_count": null,
   "id": "70015097-fcdc-4bd4-bab0-30529d116994",
   "metadata": {},
   "outputs": [],
   "source": []
  }
 ],
 "metadata": {
  "kernelspec": {
   "display_name": "Python 3 (ipykernel)",
   "language": "python",
   "name": "python3"
  },
  "language_info": {
   "codemirror_mode": {
    "name": "ipython",
    "version": 3
   },
   "file_extension": ".py",
   "mimetype": "text/x-python",
   "name": "python",
   "nbconvert_exporter": "python",
   "pygments_lexer": "ipython3",
   "version": "3.10.6"
  }
 },
 "nbformat": 4,
 "nbformat_minor": 5
}
