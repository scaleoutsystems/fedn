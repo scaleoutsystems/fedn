{
 "cells": [
  {
   "cell_type": "markdown",
   "id": "622f7047",
   "metadata": {},
   "source": [
    "## FEDn API Example\n",
    "\n",
    "This notebook provides an example of how to use the FEDn API to organize experiments and to analyze validation results. "
   ]
  },
  {
   "cell_type": "code",
   "execution_count": 1,
   "id": "743dfe47",
   "metadata": {},
   "outputs": [],
   "source": [
    "from fedn import APIClient\n",
    "from fedn.dashboard.plots import Plot\n",
    "import uuid\n",
    "import json\n",
    "import matplotlib.pyplot as plt\n",
    "import numpy as np\n",
    "import collections"
   ]
  },
  {
   "cell_type": "markdown",
   "id": "1046a4e5",
   "metadata": {},
   "source": [
    "We make a client connection to the FEDn API service. Here we assume that FEDn is deployed locally in pseudo-distributed mode with default ports."
   ]
  },
  {
   "cell_type": "code",
   "execution_count": 2,
   "id": "1061722d",
   "metadata": {},
   "outputs": [],
   "source": [
    "DISCOVER_HOST = '127.0.0.1'\n",
    "DISCOVER_PORT = 8092\n",
    "client = APIClient(DISCOVER_HOST, DISCOVER_PORT)"
   ]
  },
  {
   "cell_type": "markdown",
   "id": "07f69f5f",
   "metadata": {},
   "source": [
    "Initialize FEDn with a compute package and seed model from the mnist-pytorch example. Note that these files needs to be created separately by follwing instructions in the README of that example."
   ]
  },
  {
   "cell_type": "code",
   "execution_count": 32,
   "id": "5107f6f9",
   "metadata": {},
   "outputs": [],
   "source": [
    "client.set_package('../mnist-pytorch/package.tgz', 'pytorchhelper')\n",
    "client.set_initial_model('../mnist-pytorch/seed.npz')\n",
    "seed_model = client.get_initial_model()"
   ]
  },
  {
   "cell_type": "markdown",
   "id": "4e26c50b",
   "metadata": {},
   "source": [
    "Next we start a training session:"
   ]
  },
  {
   "cell_type": "code",
   "execution_count": 31,
   "id": "f0380d35",
   "metadata": {},
   "outputs": [],
   "source": [
    "session_config_fedavg = {\n",
    "                    \"helper\": \"numpyhelper\",\n",
    "                    \"session_id\": \"experiment_fedavg\",\n",
    "                    \"aggregator\": \"fedavg\",\n",
    "                    \"model_id\": seed_model['model_id'],\n",
    "                    \"rounds\": 1\n",
    "                 }\n",
    "\n",
    "result_fedavg = client.start_session(**session_config_fedavg)"
   ]
  },
  {
   "cell_type": "code",
   "execution_count": 33,
   "id": "4f70d7d9",
   "metadata": {},
   "outputs": [],
   "source": [
    "session_config_fedopt = {\n",
    "                    \"helper\": \"numpyhelper\",\n",
    "                    \"session_id\": \"experiment_fedopt\",\n",
    "                    \"aggregator\": \"fedopt\",\n",
    "                    \"model_id\": seed_model['model_id'],\n",
    "                    \"rounds\": 10\n",
    "                 }\n",
    "\n",
    "result_fedopt = client.start_session(**session_config_fedopt)"
   ]
  },
  {
   "cell_type": "code",
   "execution_count": 50,
   "id": "11fd17ef",
   "metadata": {
    "scrolled": true
   },
   "outputs": [
    {
     "name": "stdout",
     "output_type": "stream",
     "text": [
      "[0.36816665530204773, 0.45116665959358215, 0.5468333065509796, 0.7113333344459534, 0.7699166536331177, 0.8021666705608368, 0.823500007390976, 0.8380833268165588, 0.8509166836738586, 0.8634999990463257]\n"
     ]
    }
   ],
   "source": [
    "models = client.list_models(session_id = \"experiment_fedavg\")\n",
    "\n",
    "validations = []\n",
    "acc = collections.OrderedDict()\n",
    "for model in models[\"result\"]:\n",
    "    model_id = model[\"model\"]\n",
    "    #print(model_id)\n",
    "    validations = client.list_validations(modelId=model_id)\n",
    "    #print(validations.items(),'\\n\\n')\n",
    "\n",
    "    for _ , validation in validations.items(): \n",
    "        metrics = json.loads(validation['data'])\n",
    "        try:\n",
    "            acc[model_id].append(metrics['training_accuracy'])\n",
    "        except KeyError: \n",
    "            acc[model_id] = [metrics['training_accuracy']]\n",
    "            \n",
    "mean_acc_fedavg = []\n",
    "for model, data in acc.items():\n",
    "    mean_acc_fedavg.append(np.mean(data))\n",
    "mean_acc_fedavg.reverse()"
   ]
  },
  {
   "cell_type": "code",
   "execution_count": 62,
   "id": "900eb0a7",
   "metadata": {},
   "outputs": [],
   "source": [
    "models = client.list_models(session_id = \"experiment_fedopt2\")\n",
    "\n",
    "validations = []\n",
    "acc = collections.OrderedDict()\n",
    "for model in models[\"result\"]:\n",
    "    model_id = model[\"model\"]\n",
    "    #print(model_id)\n",
    "    validations = client.list_validations(modelId=model_id)\n",
    "    #print(validations.items(),'\\n\\n')\n",
    "    for _ , validation in validations.items(): \n",
    "        metrics = json.loads(validation['data'])\n",
    "        try:\n",
    "            acc[model_id].append(metrics['training_accuracy'])\n",
    "        except KeyError: \n",
    "            acc[model_id] = [metrics['training_accuracy']]\n",
    "            \n",
    "mean_acc_fedopt = []\n",
    "for model, data in acc.items():\n",
    "    mean_acc_fedopt.append(np.mean(data))\n",
    "mean_acc_fedopt.reverse()"
   ]
  },
  {
   "cell_type": "code",
   "execution_count": 63,
   "id": "d064aaf9",
   "metadata": {},
   "outputs": [
    {
     "data": {
      "text/plain": [
       "<matplotlib.legend.Legend at 0x13ffdff10>"
      ]
     },
     "execution_count": 63,
     "metadata": {},
     "output_type": "execute_result"
    },
    {
     "data": {
      "image/png": "[encoded data removed]",
      "text/plain": [
       "<Figure size 640x480 with 1 Axes>"
      ]
     },
     "metadata": {},
     "output_type": "display_data"
    }
   ],
   "source": [
    "x = range(1,len(mean_acc_fedavg)+1)\n",
    "plt.plot(x, mean_acc_fedavg, x, mean_acc_fedopt)\n",
    "plt.legend(['FedAvg', 'FedAdam'])\n",
    "#plt.plot(x,mean_acc_fedopt)"
   ]
  }
 ],
 "metadata": {
  "kernelspec": {
   "display_name": "Python 3 (ipykernel)",
   "language": "python",
   "name": "python3"
  },
  "language_info": {
   "codemirror_mode": {
    "name": "ipython",
    "version": 3
   },
   "file_extension": ".py",
   "mimetype": "text/x-python",
   "name": "python",
   "nbconvert_exporter": "python",
   "pygments_lexer": "ipython3",
   "version": "3.10.6"
  }
 },
 "nbformat": 4,
 "nbformat_minor": 5
}
