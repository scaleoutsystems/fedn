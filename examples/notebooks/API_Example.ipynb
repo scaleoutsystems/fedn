{
 "cells": [
  {
   "cell_type": "markdown",
   "id": "622f7047",
   "metadata": {},
   "source": [
    "## FEDn API Example\n",
    "\n",
    "This notebook provides an example of how to use the FEDn API to organize experiments and to analyze validation results"
   ]
  },
  {
   "cell_type": "code",
   "execution_count": 1,
   "id": "743dfe47",
   "metadata": {},
   "outputs": [],
   "source": [
    "from fedn import APIClient\n",
    "from fedn.dashboard.plots import Plot\n",
    "import uuid\n",
    "import json\n",
    "import matplotlib.pyplot as plt\n",
    "import numpy as np\n",
    "import collections"
   ]
  },
  {
   "cell_type": "markdown",
   "id": "1046a4e5",
   "metadata": {},
   "source": [
    "We make a client connection to the FEDn API service. Here we assume that FEDn is deployed locally in pseudo-distributed mode with default ports."
   ]
  },
  {
   "cell_type": "code",
   "execution_count": 2,
   "id": "1061722d",
   "metadata": {},
   "outputs": [],
   "source": [
    "DISCOVER_HOST = '127.0.0.1'\n",
    "DISCOVER_PORT = 8092\n",
    "client = APIClient(DISCOVER_HOST, DISCOVER_PORT)"
   ]
  },
  {
   "cell_type": "markdown",
   "id": "07f69f5f",
   "metadata": {},
   "source": [
    "Here we initialize FEDn with a compute package and seed model from the mnist-pytorch example. Note that these files needs to be created separately by follwing instructions in the README of that example."
   ]
  },
  {
   "cell_type": "code",
   "execution_count": 3,
   "id": "5107f6f9",
   "metadata": {},
   "outputs": [
    {
     "data": {
      "text/plain": [
       "{'message': 'Initial model added successfully.', 'success': True}"
      ]
     },
     "execution_count": 3,
     "metadata": {},
     "output_type": "execute_result"
    }
   ],
   "source": [
    "client.set_package('../mnist-pytorch/package.tgz', 'pytorchhelper')\n",
    "client.set_initial_model('../mnist-pytorch/seed.npz')"
   ]
  },
  {
   "cell_type": "markdown",
   "id": "4e26c50b",
   "metadata": {},
   "source": [
    "Next we start a training session:"
   ]
  },
  {
   "cell_type": "code",
   "execution_count": 10,
   "id": "f0380d35",
   "metadata": {},
   "outputs": [],
   "source": [
    "session_config_fedavg = {\n",
    "                    \"helper\": \"pytorchhelper\",\n",
    "                    \"session_id\": \"experiment_fedavg\",\n",
    "                    \"aggregator\": \"fedavg\"\n",
    "                 }\n",
    "\n",
    "result_fedavg = client.start_session(**session_config_fedavg)"
   ]
  },
  {
   "cell_type": "code",
   "execution_count": 11,
   "id": "11fd17ef",
   "metadata": {
    "scrolled": true
   },
   "outputs": [],
   "source": [
    "validations = client.list_validations()\n",
    "models = client.get_model_trail()"
   ]
  },
  {
   "cell_type": "code",
   "execution_count": 12,
   "id": "f4968b3a",
   "metadata": {},
   "outputs": [
    {
     "name": "stdout",
     "output_type": "stream",
     "text": [
      "OrderedDict([('9069d8eb-d009-4d27-806f-c536791d931a', [0.367333322763443, 0.36899998784065247]), ('3bc70b11-5634-492f-8fa8-e26f161a0a25', [0.4584999978542328, 0.4438333213329315]), ('235b9e7a-1fa8-4c98-ba13-b4bc2249eae4', [0.5398333072662354, 0.5538333058357239]), ('fa88366a-3f74-4bac-8ec6-870e4e947617', [0.715666651725769, 0.7070000171661377]), ('45706812-a1e1-40cc-9c39-b493c82e8ddb', [0.7738333344459534, 0.765999972820282]), ('3045a0b5-cd08-4fc9-80ef-3f75b920bf30', [0.7975000143051147, 0.8068333268165588]), ('6c211b10-a0f6-4226-b047-2c28348b783f', [0.8188333511352539, 0.828166663646698]), ('19c96500-8cdd-4aa4-8a6a-78064a497151', [0.8333333134651184, 0.8428333401679993]), ('760fe6fb-0712-4eb6-af9f-a9be5a0575ac', [0.8560000061988831, 0.8458333611488342]), ('5b28807c-0727-4b54-bde4-848fa9224b3b', [0.8671666383743286, 0.8598333597183228])])\n"
     ]
    }
   ],
   "source": [
    "acc = collections.OrderedDict()\n",
    "for id, validation in validations.items():\n",
    "    metrics = json.loads(validation['data'])\n",
    "    model_id = validation['model_id']\n",
    "    try:\n",
    "        acc[model_id].append(metrics['training_accuracy'])\n",
    "    except KeyError: \n",
    "        acc[model_id] = [metrics['training_accuracy']]\n",
    "\n",
    "print(acc)"
   ]
  },
  {
   "cell_type": "code",
   "execution_count": 13,
   "id": "900eb0a7",
   "metadata": {},
   "outputs": [],
   "source": [
    "mean_acc = []\n",
    "for model, data in acc.items():\n",
    "    mean_acc.append(np.mean(acc[model]))"
   ]
  },
  {
   "cell_type": "code",
   "execution_count": 14,
   "id": "d064aaf9",
   "metadata": {},
   "outputs": [
    {
     "data": {
      "text/plain": [
       "[<matplotlib.lines.Line2D at 0x1239e8130>]"
      ]
     },
     "execution_count": 14,
     "metadata": {},
     "output_type": "execute_result"
    },
    {
     "data": {
      "image/png": "[encoded data removed]",
      "text/plain": [
       "<Figure size 640x480 with 1 Axes>"
      ]
     },
     "metadata": {},
     "output_type": "display_data"
    }
   ],
   "source": [
    "plt.plot(mean_acc)"
   ]
  },
  {
   "cell_type": "code",
   "execution_count": null,
   "id": "d33feff4",
   "metadata": {},
   "outputs": [],
   "source": []
  }
 ],
 "metadata": {
  "kernelspec": {
   "display_name": "Python 3 (ipykernel)",
   "language": "python",
   "name": "python3"
  },
  "language_info": {
   "codemirror_mode": {
    "name": "ipython",
    "version": 3
   },
   "file_extension": ".py",
   "mimetype": "text/x-python",
   "name": "python",
   "nbconvert_exporter": "python",
   "pygments_lexer": "ipython3",
   "version": "3.10.6"
  }
 },
 "nbformat": 4,
 "nbformat_minor": 5
}
