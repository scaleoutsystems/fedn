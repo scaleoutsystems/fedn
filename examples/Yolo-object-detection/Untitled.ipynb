{
 "cells": [
  {
   "cell_type": "code",
   "execution_count": 24,
   "id": "d545b1ea-9c0f-486f-aeac-9c566d3ca6bb",
   "metadata": {},
   "outputs": [
    {
     "name": "stdout",
     "output_type": "stream",
     "text": [
      "[    0     2     5 38400     0]\n",
      "[]\n"
     ]
    }
   ],
   "source": [
    "import numpy as np\n",
    "\n",
    "darkfile1 = \"/home/sowmya/yolo_computer/darknet/yolov4_tiny/yolov4-tiny_final.weights\"  # Pretrained weights file\n",
    "fp = open(darkfile1, \"rb\")\n",
    "ww = np.fromfile(fp,dtype=np.int32)\n",
    "print(ww[:5])\n",
    "header=np.fromfile(fp,dtype=np.int32,count=5)\n",
    "print(header)\n",
    "w1 = np.fromfile(fp, dtype=np.float32)\n",
    "fp.close()"
   ]
  },
  {
   "cell_type": "code",
   "execution_count": 18,
   "id": "bbd79c02-ad6b-4dcd-9bf6-ff8af25f3720",
   "metadata": {},
   "outputs": [
    {
     "name": "stdout",
     "output_type": "stream",
     "text": [
      "[0 0 0 0 0]\n"
     ]
    }
   ],
   "source": [
    "darkfile2 = \"/home/sowmya/yolo_computer/darknet/yolov4_tiny/yolov4-tiny_final2.weights\"  # Pretrained weights file\n",
    "fp = open(darkfile2, \"rb\")\n",
    "header=np.fromfile(fp,dtype=np.int32,count=5)\n",
    "print(header)\n",
    "w2 = np.fromfile(fp, dtype=np.float32)\n",
    "fp.close()"
   ]
  },
  {
   "cell_type": "code",
   "execution_count": 19,
   "id": "18c12401-a625-433d-a8a1-fed5da898e47",
   "metadata": {},
   "outputs": [
    {
     "data": {
      "text/plain": [
       "0.0"
      ]
     },
     "execution_count": 19,
     "metadata": {},
     "output_type": "execute_result"
    }
   ],
   "source": [
    "np.linalg.norm(w1-w2)"
   ]
  },
  {
   "cell_type": "code",
   "execution_count": 20,
   "id": "82e07c0a-651c-4195-8f62-9e2b2bc0ce85",
   "metadata": {},
   "outputs": [
    {
     "data": {
      "text/plain": [
       "array([-0.00705129,  0.01110012, -0.01678175, -0.00561042], dtype=float32)"
      ]
     },
     "execution_count": 20,
     "metadata": {},
     "output_type": "execute_result"
    }
   ],
   "source": [
    "w2[:4]"
   ]
  },
  {
   "cell_type": "code",
   "execution_count": 21,
   "id": "16badc7a-7ceb-4972-b04b-5c82ab5a295c",
   "metadata": {},
   "outputs": [
    {
     "data": {
      "text/plain": [
       "array([-0.00705129,  0.01110012, -0.01678175, -0.00561042], dtype=float32)"
      ]
     },
     "execution_count": 21,
     "metadata": {},
     "output_type": "execute_result"
    }
   ],
   "source": [
    "w1[:4]"
   ]
  },
  {
   "cell_type": "code",
   "execution_count": null,
   "id": "fecca75c-07ed-4bdc-903d-f61e66daddee",
   "metadata": {},
   "outputs": [],
   "source": []
  }
 ],
 "metadata": {
  "kernelspec": {
   "display_name": "mattias kernel",
   "language": "python",
   "name": "mattiaskernel"
  },
  "language_info": {
   "codemirror_mode": {
    "name": "ipython",
    "version": 3
   },
   "file_extension": ".py",
   "mimetype": "text/x-python",
   "name": "python",
   "nbconvert_exporter": "python",
   "pygments_lexer": "ipython3",
   "version": "3.8.10"
  }
 },
 "nbformat": 4,
 "nbformat_minor": 5
}
