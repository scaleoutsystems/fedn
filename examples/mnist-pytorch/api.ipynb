{
 "cells": [
  {
   "cell_type": "code",
   "execution_count": 21,
   "metadata": {},
   "outputs": [],
   "source": [
    "from fedn import APIClient\n",
    "\n",
    "DISCOVER_HOST = '127.0.0.1'\n",
    "DISCOVER_PORT = 8092\n",
    "client = APIClient(DISCOVER_HOST, DISCOVER_PORT)\n"
   ]
  },
  {
   "cell_type": "code",
   "execution_count": 22,
   "metadata": {},
   "outputs": [
    {
     "data": {
      "text/plain": [
       "{'count': 2,\n",
       " 'result': [{'client_id': 'e2761306-fb91-492d-a360-0f33e5c9a765',\n",
       "   'combiner': 'combinercc6ce267',\n",
       "   'id': '67c6ca671a108c00d3d0c1a0',\n",
       "   'ip': '127.0.0.1',\n",
       "   'last_seen': 'Tue, 04 Mar 2025 10:39:52 GMT',\n",
       "   'name': 'clienteeff292e',\n",
       "   'package': 'local',\n",
       "   'status': 'online',\n",
       "   'updated_at': 'Tue, 04 Mar 2025 10:39:52 GMT'},\n",
       "  {'client_id': 'f4e61437-4d95-4fff-b21a-1e7c98239f2d',\n",
       "   'combiner': 'combinercc6ce267',\n",
       "   'id': '67c6ca5f1a108c00d3d0c190',\n",
       "   'ip': '127.0.0.1',\n",
       "   'last_seen': 'Tue, 04 Mar 2025 10:39:45 GMT',\n",
       "   'name': 'client2bc3b01c',\n",
       "   'package': 'local',\n",
       "   'status': 'online',\n",
       "   'updated_at': 'Tue, 04 Mar 2025 10:39:45 GMT'}]}"
      ]
     },
     "execution_count": 22,
     "metadata": {},
     "output_type": "execute_result"
    }
   ],
   "source": [
    "client.get_active_clients()\n"
   ]
  },
  {
   "cell_type": "code",
   "execution_count": 23,
   "metadata": {},
   "outputs": [
    {
     "data": {
      "text/plain": [
       "{'message': 'Package uploaded'}"
      ]
     },
     "execution_count": 23,
     "metadata": {},
     "output_type": "execute_result"
    }
   ],
   "source": [
    "client.set_active_package(\"package.tgz\", helper=\"numpyhelper\", name=\"my-package\")"
   ]
  },
  {
   "cell_type": "code",
   "execution_count": 24,
   "metadata": {},
   "outputs": [
    {
     "data": {
      "text/plain": [
       "{'message': 'Model added successfully', 'success': True}"
      ]
     },
     "execution_count": 24,
     "metadata": {},
     "output_type": "execute_result"
    }
   ],
   "source": [
    "client.set_active_model(\"seed.npz\")"
   ]
  },
  {
   "cell_type": "code",
   "execution_count": 25,
   "metadata": {},
   "outputs": [
    {
     "name": "stdout",
     "output_type": "stream",
     "text": [
      "{'committed_at': 'Tue, 04 Mar 2025 10:40:08 GMT', 'id': '67c6ca78242e39690f7213ae', 'key': 'models', 'model': 'cf9d56c3-5df8-4d5b-9efa-7f5bf30b70bb', 'name': None, 'parent_model': None, 'session_id': None}\n"
     ]
    }
   ],
   "source": [
    "seed_model = client.get_active_model()\n",
    "print(seed_model)"
   ]
  },
  {
   "cell_type": "code",
   "execution_count": 26,
   "metadata": {},
   "outputs": [],
   "source": [
    "session_id = \"experiment1\"\n",
    "\n",
    "session_config = {\n",
    "                    \"helper\": \"numpyhelper\",\n",
    "                    \"model_id\": session_id,\n",
    "                    \"aggregator\": \"fedavg\",\n",
    "                    \"model_id\": seed_model['model'],\n",
    "                    \"rounds\": 4,\n",
    "                    \"validate\": True\n",
    "                 }\n",
    "\n",
    "result_fedavg = client.start_session(**session_config)"
   ]
  },
  {
   "cell_type": "code",
   "execution_count": null,
   "metadata": {},
   "outputs": [],
   "source": []
  }
 ],
 "metadata": {
  "kernelspec": {
   "display_name": ".venv",
   "language": "python",
   "name": "python3"
  },
  "language_info": {
   "codemirror_mode": {
    "name": "ipython",
    "version": 3
   },
   "file_extension": ".py",
   "mimetype": "text/x-python",
   "name": "python",
   "nbconvert_exporter": "python",
   "pygments_lexer": "ipython3",
   "version": "3.9.6"
  }
 },
 "nbformat": 4,
 "nbformat_minor": 2
}
